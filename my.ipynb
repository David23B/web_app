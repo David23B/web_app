{
 "cells": [
  {
   "cell_type": "code",
   "execution_count": 2,
   "metadata": {},
   "outputs": [],
   "source": [
    "import pandas as pd\n",
    "\n",
    "df_train = pd.read_csv('train_10000.csv')\n",
    "df_val = pd.read_csv('validate_1000.csv')\n",
    "df_test = pd.read_csv('test_2000_x.csv')"
   ]
  },
  {
   "cell_type": "code",
   "execution_count": 3,
   "metadata": {},
   "outputs": [
    {
     "name": "stdout",
     "output_type": "stream",
     "text": [
      "train shape  (10000, 109)\n",
      "val shape  (1000, 109)\n",
      "test shape (2000, 108)\n"
     ]
    }
   ],
   "source": [
    "print(\"train shape \", df_train.shape)\n",
    "print(\"val shape \", df_val.shape)\n",
    "print(\"test shape\", df_test.shape)"
   ]
  },
  {
   "cell_type": "code",
   "execution_count": 7,
   "metadata": {},
   "outputs": [
    {
     "name": "stdout",
     "output_type": "stream",
     "text": [
      "train\n",
      " sample_id        0\n",
      "feature0      1200\n",
      "feature1      1167\n",
      "feature2      1208\n",
      "feature3      1206\n",
      "feature4      1115\n",
      "feature5         0\n",
      "feature6         0\n",
      "feature7      1168\n",
      "feature8      1193\n",
      "feature9         0\n",
      "feature10     1189\n",
      "feature11     1155\n",
      "feature12     1184\n",
      "feature13        0\n",
      "feature14        0\n",
      "feature15     1158\n",
      "feature16        0\n",
      "feature17     1165\n",
      "feature18     1151\n",
      "feature19        0\n",
      "feature20     1196\n",
      "feature21     1159\n",
      "feature22     1173\n",
      "feature23     1192\n",
      "feature24     1173\n",
      "feature25     1215\n",
      "feature26     1169\n",
      "feature27     1196\n",
      "feature28     1161\n",
      "feature29     1177\n",
      "feature30     1184\n",
      "feature31        0\n",
      "feature32     1175\n",
      "feature33        0\n",
      "feature34     1197\n",
      "feature35        0\n",
      "feature36        0\n",
      "feature37     1171\n",
      "feature38     1171\n",
      "feature39        0\n",
      "feature40     1223\n",
      "feature41     1197\n",
      "feature42     1168\n",
      "feature43     1214\n",
      "feature44        0\n",
      "feature45     1167\n",
      "feature46        0\n",
      "feature47     1150\n",
      "feature48     1201\n",
      "feature49     1199\n",
      "feature50     1183\n",
      "feature51     1163\n",
      "feature52     1163\n",
      "feature53     1193\n",
      "feature54     1149\n",
      "feature55     1190\n",
      "feature56     1185\n",
      "feature57        0\n",
      "feature58     1182\n",
      "feature59        0\n",
      "feature60     1186\n",
      "feature61        0\n",
      "feature62     1153\n",
      "feature63     1187\n",
      "feature64     1195\n",
      "feature65     1182\n",
      "feature66        0\n",
      "feature67        0\n",
      "feature68     1218\n",
      "feature69     1177\n",
      "feature70     1194\n",
      "feature71     1202\n",
      "feature72        0\n",
      "feature73     1169\n",
      "feature74     1187\n",
      "feature75     1164\n",
      "feature76        0\n",
      "feature77        0\n",
      "feature78     1148\n",
      "feature79     1181\n",
      "feature80     1186\n",
      "feature81     1159\n",
      "feature82     1185\n",
      "feature83     1170\n",
      "feature84     1173\n",
      "feature85     1174\n",
      "feature86     1193\n",
      "feature87        0\n",
      "feature88     1161\n",
      "feature89        0\n",
      "feature90     1206\n",
      "feature91        0\n",
      "feature92     1175\n",
      "feature93     1176\n",
      "feature94        0\n",
      "feature95     1152\n",
      "feature96     1163\n",
      "feature97        0\n",
      "feature98     1190\n",
      "feature99     1181\n",
      "feature100       0\n",
      "feature101       0\n",
      "feature102    1195\n",
      "feature103    1170\n",
      "feature104    1193\n",
      "feature105       0\n",
      "feature106    1162\n",
      "label            0\n",
      "dtype: int64\n"
     ]
    }
   ],
   "source": [
    "pd.set_option('display.max_rows', None)\n",
    "print(\"train\\n\", df_train.isnull().sum())"
   ]
  },
  {
   "cell_type": "code",
   "execution_count": null,
   "metadata": {},
   "outputs": [],
   "source": []
  }
 ],
 "metadata": {
  "kernelspec": {
   "display_name": "ML",
   "language": "python",
   "name": "python3"
  },
  "language_info": {
   "codemirror_mode": {
    "name": "ipython",
    "version": 3
   },
   "file_extension": ".py",
   "mimetype": "text/x-python",
   "name": "python",
   "nbconvert_exporter": "python",
   "pygments_lexer": "ipython3",
   "version": "3.9.0"
  },
  "orig_nbformat": 4
 },
 "nbformat": 4,
 "nbformat_minor": 2
}
